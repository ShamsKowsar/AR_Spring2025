{
 "cells": [
  {
   "cell_type": "markdown",
   "id": "6035c30e",
   "metadata": {},
   "source": [
    "## sensor noise"
   ]
  },
  {
   "cell_type": "code",
   "execution_count": 2,
   "id": "b1ad209d",
   "metadata": {},
   "outputs": [
    {
     "name": "stdout",
     "output_type": "stream",
     "text": [
      "Mean: -0.0009\n",
      "Var: 0.0001\n",
      "std: 0.0101\n"
     ]
    }
   ],
   "source": [
    "import pandas as pd\n",
    "import numpy as np\n",
    "\n",
    "\n",
    "df5 = pd.read_csv(r'C:\\Users\\sharifpc\\Downloads\\measures_5.csv')\n",
    "\n",
    "print(f\"Mean: {np.mean(df5['5']-0.05):.4f}\")\n",
    "print(f\"Var: {np.var(df5['5']-0.05):.4f}\")\n",
    "print(f\"std: {np.std(df5['5']-0.05):.4f}\")"
   ]
  },
  {
   "cell_type": "code",
   "execution_count": 3,
   "id": "3397256e",
   "metadata": {},
   "outputs": [
    {
     "name": "stdout",
     "output_type": "stream",
     "text": [
      "Mean: -0.0017\n",
      "Var: 0.00010\n",
      "std: 0.01000\n"
     ]
    }
   ],
   "source": [
    "df10 = pd.read_csv(r'C:\\Users\\sharifpc\\Downloads\\measures_10.csv')\n",
    "\n",
    "print(f\"Mean: {np.mean(df10['10']-0.1):.4f}\")\n",
    "print(f\"Var: {np.var(df10['10']-0.1):.5f}\")\n",
    "print(f\"std: {np.std(df10['10']-0.1):.5f}\")"
   ]
  },
  {
   "cell_type": "code",
   "execution_count": 4,
   "id": "e5a256b6",
   "metadata": {},
   "outputs": [
    {
     "name": "stdout",
     "output_type": "stream",
     "text": [
      "Mean: -0.0020\n",
      "Var: 0.0001\n",
      "std: 0.0099\n"
     ]
    }
   ],
   "source": [
    "df15 = pd.read_csv(r'C:\\Users\\sharifpc\\Downloads\\measures_15.csv')\n",
    "\n",
    "print(f\"Mean: {np.mean(df15['15']-0.15):.4f}\")\n",
    "print(f\"Var: {np.var(df15['15']-0.15):.4f}\")\n",
    "print(f\"std: {np.std(df15['15']-0.15):.4f}\")"
   ]
  },
  {
   "cell_type": "code",
   "execution_count": 5,
   "id": "cae83b78",
   "metadata": {},
   "outputs": [
    {
     "name": "stdout",
     "output_type": "stream",
     "text": [
      "Mean: -0.0044\n",
      "Var: 0.0001\n",
      "std: 0.0100\n"
     ]
    }
   ],
   "source": [
    "df20=pd.read_csv(r'C:\\Users\\sharifpc\\Downloads\\measures_20.csv')\n",
    "\n",
    "print(f\"Mean: {np.mean(df20['20']-.2):.4f}\")\n",
    "print(f\"Var: {np.var(df20['20']-.2):.4f}\")\n",
    "print(f\"std: {np.std(df20['20']-.2):.4f}\")"
   ]
  },
  {
   "cell_type": "code",
   "execution_count": 6,
   "id": "4f210f15",
   "metadata": {},
   "outputs": [
    {
     "name": "stdout",
     "output_type": "stream",
     "text": [
      "Mean: -0.0042\n",
      "Var: 0.0001\n",
      "std: 0.0100\n"
     ]
    }
   ],
   "source": [
    "df25=pd.read_csv(r'C:\\Users\\sharifpc\\Downloads\\measures_25.csv')\n",
    "\n",
    "print(f\"Mean: {np.mean(df25['25']-.25):.4f}\")\n",
    "print(f\"Var: {np.var(df25['25']-.25):.4f}\")\n",
    "print(f\"std: {np.std(df25['25']-.25):.4f}\")"
   ]
  },
  {
   "cell_type": "code",
   "execution_count": 7,
   "id": "966d0b24",
   "metadata": {},
   "outputs": [
    {
     "name": "stdout",
     "output_type": "stream",
     "text": [
      "Mean: -0.0028\n",
      "Var: 0.0001\n",
      "std: 0.0106\n"
     ]
    }
   ],
   "source": [
    "df30=pd.read_csv(r'C:\\Users\\sharifpc\\Downloads\\measures_30.csv')\n",
    "\n",
    "print(f\"Mean: {np.mean(df30['30']-.3):.4f}\")\n",
    "print(f\"Var: {np.var(df30['30']-.3):.4f}\")\n",
    "print(f\"std: {np.std(df30['30']-.3):.4f}\")"
   ]
  },
  {
   "cell_type": "code",
   "execution_count": 8,
   "id": "663761c2",
   "metadata": {},
   "outputs": [
    {
     "name": "stdout",
     "output_type": "stream",
     "text": [
      "Mean: -0.0052\n",
      "Var: 0.0001\n",
      "std: 0.0097\n"
     ]
    }
   ],
   "source": [
    "df37=pd.read_csv(r'C:\\Users\\sharifpc\\Downloads\\measures_37.csv')\n",
    "\n",
    "print(f\"Mean: {np.mean(df37['37']-.37):.4f}\")\n",
    "print(f\"Var: {np.var(df37['37']-.37):.4f}\")\n",
    "print(f\"std: {np.std(df37['37']-.37):.4f}\")"
   ]
  },
  {
   "cell_type": "markdown",
   "id": "07c63edb",
   "metadata": {},
   "source": [
    "## linear speed noise"
   ]
  },
  {
   "cell_type": "code",
   "execution_count": 11,
   "id": "3d086df9",
   "metadata": {},
   "outputs": [
    {
     "data": {
      "text/html": [
       "<div>\n",
       "<style scoped>\n",
       "    .dataframe tbody tr th:only-of-type {\n",
       "        vertical-align: middle;\n",
       "    }\n",
       "\n",
       "    .dataframe tbody tr th {\n",
       "        vertical-align: top;\n",
       "    }\n",
       "\n",
       "    .dataframe thead th {\n",
       "        text-align: right;\n",
       "    }\n",
       "</style>\n",
       "<table border=\"1\" class=\"dataframe\">\n",
       "  <thead>\n",
       "    <tr style=\"text-align: right;\">\n",
       "      <th></th>\n",
       "      <th>duration</th>\n",
       "      <th>trial</th>\n",
       "      <th>x_position (mm)</th>\n",
       "      <th>y_position (mm)</th>\n",
       "      <th>measured_speed (mm/s)</th>\n",
       "    </tr>\n",
       "  </thead>\n",
       "  <tbody>\n",
       "    <tr>\n",
       "      <th>0</th>\n",
       "      <td>2.5</td>\n",
       "      <td>1</td>\n",
       "      <td>52.025540</td>\n",
       "      <td>0.041815</td>\n",
       "      <td>20.810216</td>\n",
       "    </tr>\n",
       "    <tr>\n",
       "      <th>1</th>\n",
       "      <td>2.5</td>\n",
       "      <td>2</td>\n",
       "      <td>52.017185</td>\n",
       "      <td>0.050673</td>\n",
       "      <td>20.806874</td>\n",
       "    </tr>\n",
       "    <tr>\n",
       "      <th>2</th>\n",
       "      <td>2.5</td>\n",
       "      <td>3</td>\n",
       "      <td>52.024418</td>\n",
       "      <td>0.035932</td>\n",
       "      <td>20.809767</td>\n",
       "    </tr>\n",
       "    <tr>\n",
       "      <th>3</th>\n",
       "      <td>2.5</td>\n",
       "      <td>4</td>\n",
       "      <td>51.825091</td>\n",
       "      <td>0.041978</td>\n",
       "      <td>20.730037</td>\n",
       "    </tr>\n",
       "    <tr>\n",
       "      <th>4</th>\n",
       "      <td>2.5</td>\n",
       "      <td>5</td>\n",
       "      <td>52.017577</td>\n",
       "      <td>0.038678</td>\n",
       "      <td>20.807031</td>\n",
       "    </tr>\n",
       "  </tbody>\n",
       "</table>\n",
       "</div>"
      ],
      "text/plain": [
       "   duration  trial  x_position (mm)  y_position (mm)  measured_speed (mm/s)\n",
       "0       2.5      1        52.025540         0.041815              20.810216\n",
       "1       2.5      2        52.017185         0.050673              20.806874\n",
       "2       2.5      3        52.024418         0.035932              20.809767\n",
       "3       2.5      4        51.825091         0.041978              20.730037\n",
       "4       2.5      5        52.017577         0.038678              20.807031"
      ]
     },
     "execution_count": 11,
     "metadata": {},
     "output_type": "execute_result"
    }
   ],
   "source": [
    "df = pd.read_csv(r'C:\\Users\\sharifpc\\Downloads\\part_b.csv')\n",
    "df.head()"
   ]
  },
  {
   "cell_type": "code",
   "execution_count": 26,
   "id": "3bc618ce",
   "metadata": {},
   "outputs": [
    {
     "name": "stdout",
     "output_type": "stream",
     "text": [
      "Mean: 0.0008\n",
      "Var: 0.0000\n",
      "std: 1.5822706526060322e-05\n"
     ]
    }
   ],
   "source": [
    "v5= df['measured_speed (mm/s)'].loc[df['duration']==2.5]/1000\n",
    "\n",
    "print(f\"Mean: {np.mean(v5-.02):.4f}\")\n",
    "print(f\"Var: {np.var(v5-.02):.4f}\")\n",
    "print(f\"std: {np.std(v5-.02)}\")"
   ]
  },
  {
   "cell_type": "code",
   "execution_count": 25,
   "id": "6f3a1278",
   "metadata": {},
   "outputs": [
    {
     "name": "stdout",
     "output_type": "stream",
     "text": [
      "Mean: 0.0004\n",
      "Var: 0.0000\n",
      "std: 1.0778590948574656e-06\n"
     ]
    }
   ],
   "source": [
    "v10= df['measured_speed (mm/s)'].loc[df['duration']==5]/1000\n",
    "\n",
    "print(f\"Mean: {np.mean(v10-.02):.4f}\")\n",
    "print(f\"Var: {np.var(v10-.02):.4f}\")\n",
    "print(f\"std: {np.std(v10-.02)}\")"
   ]
  },
  {
   "cell_type": "code",
   "execution_count": 24,
   "id": "e0c401d0",
   "metadata": {},
   "outputs": [
    {
     "name": "stdout",
     "output_type": "stream",
     "text": [
      "Mean: 0.0003\n",
      "Var: 0.0000\n",
      "std: 3.930684570545515e-06\n"
     ]
    }
   ],
   "source": [
    "v15= df['measured_speed (mm/s)'].loc[df['duration']==7.5]/1000\n",
    "\n",
    "print(f\"Mean: {np.mean(v15-.02):.4f}\")\n",
    "print(f\"Var: {np.var(v15-.02):.4f}\")\n",
    "print(f\"std: {np.std(v15-.02):}\")"
   ]
  }
 ],
 "metadata": {
  "kernelspec": {
   "display_name": "Python 3",
   "language": "python",
   "name": "python3"
  },
  "language_info": {
   "codemirror_mode": {
    "name": "ipython",
    "version": 3
   },
   "file_extension": ".py",
   "mimetype": "text/x-python",
   "name": "python",
   "nbconvert_exporter": "python",
   "pygments_lexer": "ipython3",
   "version": "3.13.5"
  }
 },
 "nbformat": 4,
 "nbformat_minor": 5
}
